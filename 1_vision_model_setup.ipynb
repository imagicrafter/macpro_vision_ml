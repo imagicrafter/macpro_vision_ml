{
 "cells": [
  {
   "cell_type": "code",
   "execution_count": null,
   "id": "e13b99d9-bb31-42b3-8943-307102c29d9a",
   "metadata": {},
   "outputs": [],
   "source": [
    "# Image classification modeling validation"
   ]
  },
  {
   "cell_type": "code",
   "execution_count": null,
   "id": "cdc10b0f-23e1-4090-9657-7ee1602e424b",
   "metadata": {},
   "outputs": [],
   "source": [
    "pip install torch torchvision transformers datasets pillow accelerate"
   ]
  },
  {
   "cell_type": "code",
   "execution_count": 3,
   "id": "76302a82-6a6c-45ce-979c-db1df72917c4",
   "metadata": {
    "collapsed": true,
    "jupyter": {
     "outputs_hidden": true
    },
    "scrolled": true
   },
   "outputs": [
    {
     "name": "stdout",
     "output_type": "stream",
     "text": [
      "Collecting timm\n",
      "  Downloading timm-1.0.16-py3-none-any.whl.metadata (57 kB)\n",
      "Requirement already satisfied: torch in ./lib/python3.12/site-packages (from timm) (2.7.1)\n",
      "Requirement already satisfied: torchvision in ./lib/python3.12/site-packages (from timm) (0.22.1)\n",
      "Requirement already satisfied: pyyaml in ./lib/python3.12/site-packages (from timm) (6.0.2)\n",
      "Requirement already satisfied: huggingface_hub in ./lib/python3.12/site-packages (from timm) (0.33.1)\n",
      "Requirement already satisfied: safetensors in ./lib/python3.12/site-packages (from timm) (0.5.3)\n",
      "Requirement already satisfied: filelock in ./lib/python3.12/site-packages (from huggingface_hub->timm) (3.18.0)\n",
      "Requirement already satisfied: fsspec>=2023.5.0 in ./lib/python3.12/site-packages (from huggingface_hub->timm) (2025.3.0)\n",
      "Requirement already satisfied: packaging>=20.9 in ./lib/python3.12/site-packages (from huggingface_hub->timm) (25.0)\n",
      "Requirement already satisfied: requests in ./lib/python3.12/site-packages (from huggingface_hub->timm) (2.32.4)\n",
      "Requirement already satisfied: tqdm>=4.42.1 in ./lib/python3.12/site-packages (from huggingface_hub->timm) (4.67.1)\n",
      "Requirement already satisfied: typing-extensions>=3.7.4.3 in ./lib/python3.12/site-packages (from huggingface_hub->timm) (4.14.0)\n",
      "Requirement already satisfied: hf-xet<2.0.0,>=1.1.2 in ./lib/python3.12/site-packages (from huggingface_hub->timm) (1.1.5)\n",
      "Requirement already satisfied: charset_normalizer<4,>=2 in ./lib/python3.12/site-packages (from requests->huggingface_hub->timm) (3.4.2)\n",
      "Requirement already satisfied: idna<4,>=2.5 in ./lib/python3.12/site-packages (from requests->huggingface_hub->timm) (3.10)\n",
      "Requirement already satisfied: urllib3<3,>=1.21.1 in ./lib/python3.12/site-packages (from requests->huggingface_hub->timm) (2.5.0)\n",
      "Requirement already satisfied: certifi>=2017.4.17 in ./lib/python3.12/site-packages (from requests->huggingface_hub->timm) (2025.6.15)\n",
      "Requirement already satisfied: setuptools in ./lib/python3.12/site-packages (from torch->timm) (80.9.0)\n",
      "Requirement already satisfied: sympy>=1.13.3 in ./lib/python3.12/site-packages (from torch->timm) (1.14.0)\n",
      "Requirement already satisfied: networkx in ./lib/python3.12/site-packages (from torch->timm) (3.5)\n",
      "Requirement already satisfied: jinja2 in ./lib/python3.12/site-packages (from torch->timm) (3.1.6)\n",
      "Requirement already satisfied: mpmath<1.4,>=1.1.0 in ./lib/python3.12/site-packages (from sympy>=1.13.3->torch->timm) (1.3.0)\n",
      "Requirement already satisfied: MarkupSafe>=2.0 in ./lib/python3.12/site-packages (from jinja2->torch->timm) (3.0.2)\n",
      "Requirement already satisfied: numpy in ./lib/python3.12/site-packages (from torchvision->timm) (2.3.1)\n",
      "Requirement already satisfied: pillow!=8.3.*,>=5.3.0 in ./lib/python3.12/site-packages (from torchvision->timm) (11.2.1)\n",
      "Downloading timm-1.0.16-py3-none-any.whl (2.5 MB)\n",
      "\u001b[2K   \u001b[90m━━━━━━━━━━━━━━━━━━━━━━━━━━━━━━━━━━━━━━━━\u001b[0m \u001b[32m2.5/2.5 MB\u001b[0m \u001b[31m27.1 MB/s\u001b[0m eta \u001b[36m0:00:00\u001b[0m\n",
      "\u001b[?25hInstalling collected packages: timm\n",
      "Successfully installed timm-1.0.16\n",
      "Note: you may need to restart the kernel to use updated packages.\n"
     ]
    }
   ],
   "source": [
    "pip install timm"
   ]
  },
  {
   "cell_type": "code",
   "execution_count": 6,
   "id": "62d358e4-3a54-4938-bda1-84c6a6027923",
   "metadata": {},
   "outputs": [],
   "source": [
    "from transformers import ViTImageProcessor, ViTForImageClassification\n",
    "model_name = \"google/vit-base-patch16-224\""
   ]
  },
  {
   "cell_type": "code",
   "execution_count": 9,
   "id": "203d9466-8df5-436c-ac32-4e5561a7fc3e",
   "metadata": {
    "collapsed": true,
    "jupyter": {
     "outputs_hidden": true,
     "source_hidden": true
    },
    "scrolled": true
   },
   "outputs": [
    {
     "name": "stdout",
     "output_type": "stream",
     "text": [
      "Collecting scikit-learn\n",
      "  Downloading scikit_learn-1.7.0-cp312-cp312-macosx_12_0_arm64.whl.metadata (31 kB)\n",
      "Collecting matplotlib\n",
      "  Downloading matplotlib-3.10.3-cp312-cp312-macosx_11_0_arm64.whl.metadata (11 kB)\n",
      "Requirement already satisfied: numpy>=1.22.0 in ./lib/python3.12/site-packages (from scikit-learn) (2.3.1)\n",
      "Collecting scipy>=1.8.0 (from scikit-learn)\n",
      "  Downloading scipy-1.16.0-cp312-cp312-macosx_14_0_arm64.whl.metadata (61 kB)\n",
      "Collecting joblib>=1.2.0 (from scikit-learn)\n",
      "  Downloading joblib-1.5.1-py3-none-any.whl.metadata (5.6 kB)\n",
      "Collecting threadpoolctl>=3.1.0 (from scikit-learn)\n",
      "  Downloading threadpoolctl-3.6.0-py3-none-any.whl.metadata (13 kB)\n",
      "Collecting contourpy>=1.0.1 (from matplotlib)\n",
      "  Downloading contourpy-1.3.2-cp312-cp312-macosx_11_0_arm64.whl.metadata (5.5 kB)\n",
      "Collecting cycler>=0.10 (from matplotlib)\n",
      "  Downloading cycler-0.12.1-py3-none-any.whl.metadata (3.8 kB)\n",
      "Collecting fonttools>=4.22.0 (from matplotlib)\n",
      "  Downloading fonttools-4.58.4-cp312-cp312-macosx_10_13_universal2.whl.metadata (106 kB)\n",
      "Collecting kiwisolver>=1.3.1 (from matplotlib)\n",
      "  Downloading kiwisolver-1.4.8-cp312-cp312-macosx_11_0_arm64.whl.metadata (6.2 kB)\n",
      "Requirement already satisfied: packaging>=20.0 in ./lib/python3.12/site-packages (from matplotlib) (25.0)\n",
      "Requirement already satisfied: pillow>=8 in ./lib/python3.12/site-packages (from matplotlib) (11.2.1)\n",
      "Collecting pyparsing>=2.3.1 (from matplotlib)\n",
      "  Downloading pyparsing-3.2.3-py3-none-any.whl.metadata (5.0 kB)\n",
      "Requirement already satisfied: python-dateutil>=2.7 in ./lib/python3.12/site-packages (from matplotlib) (2.9.0.post0)\n",
      "Requirement already satisfied: six>=1.5 in ./lib/python3.12/site-packages (from python-dateutil>=2.7->matplotlib) (1.17.0)\n",
      "Downloading scikit_learn-1.7.0-cp312-cp312-macosx_12_0_arm64.whl (10.7 MB)\n",
      "\u001b[2K   \u001b[90m━━━━━━━━━━━━━━━━━━━━━━━━━━━━━━━━━━━━━━━━\u001b[0m \u001b[32m10.7/10.7 MB\u001b[0m \u001b[31m48.7 MB/s\u001b[0m eta \u001b[36m0:00:00\u001b[0m \u001b[36m0:00:01\u001b[0m\n",
      "\u001b[?25hDownloading matplotlib-3.10.3-cp312-cp312-macosx_11_0_arm64.whl (8.1 MB)\n",
      "\u001b[2K   \u001b[90m━━━━━━━━━━━━━━━━━━━━━━━━━━━━━━━━━━━━━━━━\u001b[0m \u001b[32m8.1/8.1 MB\u001b[0m \u001b[31m56.2 MB/s\u001b[0m eta \u001b[36m0:00:00\u001b[0m\n",
      "\u001b[?25hDownloading contourpy-1.3.2-cp312-cp312-macosx_11_0_arm64.whl (255 kB)\n",
      "Downloading cycler-0.12.1-py3-none-any.whl (8.3 kB)\n",
      "Downloading fonttools-4.58.4-cp312-cp312-macosx_10_13_universal2.whl (2.8 MB)\n",
      "\u001b[2K   \u001b[90m━━━━━━━━━━━━━━━━━━━━━━━━━━━━━━━━━━━━━━━━\u001b[0m \u001b[32m2.8/2.8 MB\u001b[0m \u001b[31m52.7 MB/s\u001b[0m eta \u001b[36m0:00:00\u001b[0m\n",
      "\u001b[?25hDownloading joblib-1.5.1-py3-none-any.whl (307 kB)\n",
      "Downloading kiwisolver-1.4.8-cp312-cp312-macosx_11_0_arm64.whl (65 kB)\n",
      "Downloading pyparsing-3.2.3-py3-none-any.whl (111 kB)\n",
      "Downloading scipy-1.16.0-cp312-cp312-macosx_14_0_arm64.whl (20.8 MB)\n",
      "\u001b[2K   \u001b[90m━━━━━━━━━━━━━━━━━━━━━━━━━━━━━━━━━━━━━━━━\u001b[0m \u001b[32m20.8/20.8 MB\u001b[0m \u001b[31m58.4 MB/s\u001b[0m eta \u001b[36m0:00:00\u001b[0ma \u001b[36m0:00:01\u001b[0m\n",
      "\u001b[?25hDownloading threadpoolctl-3.6.0-py3-none-any.whl (18 kB)\n",
      "Installing collected packages: threadpoolctl, scipy, pyparsing, kiwisolver, joblib, fonttools, cycler, contourpy, scikit-learn, matplotlib\n",
      "\u001b[2K   \u001b[90m━━━━━━━━━━━━━━━━━━━━━━━━━━━━━━━━━━━━━━━━\u001b[0m \u001b[32m10/10\u001b[0m [matplotlib]0\u001b[0m [matplotlib]n]\n",
      "\u001b[1A\u001b[2KSuccessfully installed contourpy-1.3.2 cycler-0.12.1 fonttools-4.58.4 joblib-1.5.1 kiwisolver-1.4.8 matplotlib-3.10.3 pyparsing-3.2.3 scikit-learn-1.7.0 scipy-1.16.0 threadpoolctl-3.6.0\n"
     ]
    }
   ],
   "source": [
    "!pip install scikit-learn matplotlib"
   ]
  },
  {
   "cell_type": "code",
   "execution_count": 10,
   "id": "b80c9dbd-e669-4170-8d63-0933c9868b61",
   "metadata": {
    "collapsed": true,
    "jupyter": {
     "outputs_hidden": true,
     "source_hidden": true
    }
   },
   "outputs": [
    {
     "name": "stderr",
     "output_type": "stream",
     "text": [
      "Matplotlib is building the font cache; this may take a moment.\n"
     ]
    },
    {
     "name": "stdout",
     "output_type": "stream",
     "text": [
      "Using device: mps\n"
     ]
    }
   ],
   "source": [
    "import torch\n",
    "import torch.nn as nn\n",
    "from torch.utils.data import DataLoader, Dataset\n",
    "from transformers import ViTImageProcessor, ViTForImageClassification, TrainingArguments, Trainer\n",
    "from PIL import Image\n",
    "import os\n",
    "from torchvision import transforms\n",
    "import numpy as np\n",
    "from sklearn.metrics import accuracy_score\n",
    "import matplotlib.pyplot as plt\n",
    "\n",
    "# Check if MPS (Apple Silicon GPU) is available\n",
    "device = torch.device(\"mps\" if torch.backends.mps.is_available() else \"cpu\")\n",
    "print(f\"Using device: {device}\")"
   ]
  },
  {
   "cell_type": "code",
   "execution_count": 11,
   "id": "dec9dc75-9531-4a7e-8442-0d2956a70e46",
   "metadata": {
    "jupyter": {
     "source_hidden": true
    }
   },
   "outputs": [],
   "source": [
    "# Step 1: Custom Dataset Class\n",
    "class ImageClassificationDataset(Dataset):\n",
    "    def __init__(self, root_dir, processor, transform=None):\n",
    "        \"\"\"\n",
    "        Args:\n",
    "            root_dir: Directory with subdirectories for each class\n",
    "            processor: ViT image processor\n",
    "            transform: Optional transforms\n",
    "        \"\"\"\n",
    "        self.root_dir = root_dir\n",
    "        self.processor = processor\n",
    "        self.transform = transform\n",
    "        \n",
    "        # Get all class directories\n",
    "        self.classes = sorted([d for d in os.listdir(root_dir) \n",
    "                              if os.path.isdir(os.path.join(root_dir, d))])\n",
    "        self.class_to_idx = {cls: idx for idx, cls in enumerate(self.classes)}\n",
    "        \n",
    "        # Build file list\n",
    "        self.samples = []\n",
    "        for class_name in self.classes:\n",
    "            class_dir = os.path.join(root_dir, class_name)\n",
    "            for filename in os.listdir(class_dir):\n",
    "                if filename.lower().endswith(('.png', '.jpg', '.jpeg')):\n",
    "                    self.samples.append((\n",
    "                        os.path.join(class_dir, filename),\n",
    "                        self.class_to_idx[class_name]\n",
    "                    ))\n",
    "    \n",
    "    def __len__(self):\n",
    "        return len(self.samples)\n",
    "    \n",
    "    def __getitem__(self, idx):\n",
    "        img_path, label = self.samples[idx]\n",
    "        \n",
    "        # Load and process image\n",
    "        image = Image.open(img_path).convert('RGB')\n",
    "        \n",
    "        if self.transform:\n",
    "            image = self.transform(image)\n",
    "        \n",
    "        # Process with ViT processor\n",
    "        inputs = self.processor(image, return_tensors=\"pt\")\n",
    "        \n",
    "        return {\n",
    "            'pixel_values': inputs['pixel_values'].squeeze(),\n",
    "            'labels': torch.tensor(label, dtype=torch.long)\n",
    "        }"
   ]
  },
  {
   "cell_type": "code",
   "execution_count": 12,
   "id": "564d287c-4992-40f5-bda6-68fdbe851898",
   "metadata": {
    "jupyter": {
     "source_hidden": true
    }
   },
   "outputs": [],
   "source": [
    "# Step 2: Initialize the model and processor\n",
    "def setup_model(num_classes, model_name=\"google/vit-base-patch16-224\"):\n",
    "    \"\"\"Setup ViT model for fine-tuning\"\"\"\n",
    "    \n",
    "    processor = ViTImageProcessor.from_pretrained(model_name)\n",
    "    model = ViTForImageClassification.from_pretrained(\n",
    "        model_name,\n",
    "        num_labels=num_classes,\n",
    "        ignore_mismatched_sizes=True\n",
    "    )\n",
    "    \n",
    "    return model, processor"
   ]
  },
  {
   "cell_type": "code",
   "execution_count": 13,
   "id": "7231efd2-64bc-4288-b571-91411fbf668e",
   "metadata": {
    "jupyter": {
     "source_hidden": true
    }
   },
   "outputs": [],
   "source": [
    "# Step 3: Training function\n",
    "def train_model(train_dataset, val_dataset, model, output_dir=\"./model_output\"):\n",
    "    \"\"\"Train the vision model\"\"\"\n",
    "    \n",
    "    def compute_metrics(eval_pred):\n",
    "        predictions, labels = eval_pred\n",
    "        predictions = np.argmax(predictions, axis=1)\n",
    "        return {\"accuracy\": accuracy_score(labels, predictions)}\n",
    "    \n",
    "    training_args = TrainingArguments(\n",
    "        output_dir=output_dir,\n",
    "        per_device_train_batch_size=8,  # Adjust based on your Mac's memory\n",
    "        per_device_eval_batch_size=8,\n",
    "        num_train_epochs=3,\n",
    "        eval_strategy=\"epoch\",\n",
    "        save_strategy=\"epoch\",\n",
    "        logging_dir=f\"{output_dir}/logs\",\n",
    "        logging_steps=10,\n",
    "        load_best_model_at_end=True,\n",
    "        metric_for_best_model=\"accuracy\",\n",
    "        greater_is_better=True,\n",
    "        remove_unused_columns=False,\n",
    "        push_to_hub=False,\n",
    "        dataloader_num_workers=0,  # Set to 0 for Mac compatibility\n",
    "    )\n",
    "    \n",
    "    trainer = Trainer(\n",
    "        model=model,\n",
    "        args=training_args,\n",
    "        train_dataset=train_dataset,\n",
    "        eval_dataset=val_dataset,\n",
    "        compute_metrics=compute_metrics,\n",
    "    )\n",
    "    \n",
    "    # Train the model\n",
    "    trainer.train()\n",
    "    \n",
    "    return trainer\n"
   ]
  },
  {
   "cell_type": "code",
   "execution_count": 14,
   "id": "81cf2fef-9eb9-4fb0-810e-f98675f1f89d",
   "metadata": {
    "jupyter": {
     "source_hidden": true
    }
   },
   "outputs": [],
   "source": [
    "# Step 4: Prediction function\n",
    "def predict_image(image_path, model, processor, class_names):\n",
    "    \"\"\"Make prediction on a single image\"\"\"\n",
    "    \n",
    "    image = Image.open(image_path).convert('RGB')\n",
    "    inputs = processor(image, return_tensors=\"pt\")\n",
    "    \n",
    "    model.eval()\n",
    "    with torch.no_grad():\n",
    "        outputs = model(**inputs)\n",
    "        predictions = torch.nn.functional.softmax(outputs.logits, dim=-1)\n",
    "        predicted_class_id = predictions.argmax().item()\n",
    "        confidence = predictions[0][predicted_class_id].item()\n",
    "    \n",
    "    return {\n",
    "        'predicted_class': class_names[predicted_class_id],\n",
    "        'confidence': confidence,\n",
    "        'all_probabilities': {class_names[i]: prob.item() \n",
    "                            for i, prob in enumerate(predictions[0])}\n",
    "    }"
   ]
  },
  {
   "cell_type": "code",
   "execution_count": null,
   "id": "7813ff06-c9b7-4f60-aa7a-c8ec6a8be021",
   "metadata": {
    "jupyter": {
     "source_hidden": true
    }
   },
   "outputs": [],
   "source": [
    "# Example usage:\n",
    "\"\"\"\n",
    "# 1. Organize your data like this:\n",
    "# dataset/\n",
    "#   ├── no_damage/\n",
    "#   │   ├── image1.jpg\n",
    "#   │   └── image2.jpg\n",
    "#   ├── light_damage/\n",
    "#   │   ├── image3.jpg\n",
    "#   │   └── image4.jpg\n",
    "#   └── heavy_damage/\n",
    "#       ├── image5.jpg\n",
    "#       └── image6.jpg\n",
    "\n",
    "# 2. Setup and train:\n",
    "dataset_path = \"path/to/your/dataset\"\n",
    "num_classes = 3  # Adjust based on your classes\n",
    "\n",
    "model, processor = setup_model(num_classes)\n",
    "\n",
    "# Create datasets\n",
    "train_dataset = ImageClassificationDataset(\n",
    "    root_dir=f\"{dataset_path}/train\",\n",
    "    processor=processor\n",
    ")\n",
    "\n",
    "val_dataset = ImageClassificationDataset(\n",
    "    root_dir=f\"{dataset_path}/val\", \n",
    "    processor=processor\n",
    ")\n",
    "\n",
    "# Train\n",
    "trainer = train_model(train_dataset, val_dataset, model)\n",
    "\n",
    "# Make predictions\n",
    "result = predict_image(\n",
    "    \"path/to/test/image.jpg\", \n",
    "    model, \n",
    "    processor, \n",
    "    train_dataset.classes\n",
    ")\n",
    "print(result)\n",
    "\"\"\""
   ]
  },
  {
   "cell_type": "code",
   "execution_count": 18,
   "id": "11ff0e9a-0d19-46e2-9822-bc375b7ae554",
   "metadata": {
    "collapsed": true,
    "jupyter": {
     "outputs_hidden": true,
     "source_hidden": true
    }
   },
   "outputs": [
    {
     "name": "stdout",
     "output_type": "stream",
     "text": [
      "Mock dataset created!\n",
      "Structure:\n",
      "\n",
      "train:\n",
      "  no_damage: 50 images\n",
      "  light_damage: 50 images\n",
      "  heavy_damage: 50 images\n",
      "\n",
      "val:\n",
      "  no_damage: 15 images\n",
      "  light_damage: 15 images\n",
      "  heavy_damage: 15 images\n"
     ]
    }
   ],
   "source": [
    "# Build Mock dataset\n",
    "\n",
    "import os\n",
    "from PIL import Image\n",
    "import numpy as np\n",
    "\n",
    "def create_mock_dataset():\n",
    "    \"\"\"Create a simple mock dataset for testing the pipeline\"\"\"\n",
    "    \n",
    "    # Create directory structure\n",
    "    classes = ['no_damage', 'light_damage', 'heavy_damage']\n",
    "    \n",
    "    for split in ['train', 'val']:\n",
    "        for class_name in classes:\n",
    "            os.makedirs(f\"sample_dataset/{split}/{class_name}\", exist_ok=True)\n",
    "    \n",
    "    # Create simple colored images (224x224 to match ViT input size)\n",
    "    colors = {\n",
    "        'no_damage': (0, 255, 0),      # Green\n",
    "        'light_damage': (255, 255, 0),  # Yellow  \n",
    "        'heavy_damage': (255, 0, 0)     # Red\n",
    "    }\n",
    "    \n",
    "    for split in ['train', 'val']:\n",
    "        num_images = 50 if split == 'train' else 15  # More images for better testing\n",
    "        \n",
    "        for class_name in classes:\n",
    "            for i in range(num_images):\n",
    "                # Create a colored image with patterns to simulate variety\n",
    "                img_array = np.full((224, 224, 3), colors[class_name], dtype=np.uint8)\n",
    "                \n",
    "                # Add some patterns and noise to make images more realistic\n",
    "                # Add diagonal stripes\n",
    "                for j in range(0, 224, 20):\n",
    "                    img_array[j:j+5, :] = np.clip(img_array[j:j+5, :] + 50, 0, 255)\n",
    "                \n",
    "                # Add random noise\n",
    "                noise = np.random.randint(-20, 20, (224, 224, 3))\n",
    "                img_array = np.clip(img_array + noise, 0, 255).astype(np.uint8)\n",
    "                \n",
    "                # Add some random shapes to create variation\n",
    "                if i % 3 == 0:  # Every 3rd image gets a circle\n",
    "                    center = (np.random.randint(50, 174), np.random.randint(50, 174))\n",
    "                    y, x = np.ogrid[:224, :224]\n",
    "                    mask = (x - center[0])**2 + (y - center[1])**2 <= 30**2\n",
    "                    img_array[mask] = (128, 128, 128)  # Gray circle\n",
    "                \n",
    "                # Save image\n",
    "                img = Image.fromarray(img_array)\n",
    "                img.save(f\"sample_dataset/{split}/{class_name}/img_{i:03d}.png\")\n",
    "    \n",
    "    print(\"Mock dataset created!\")\n",
    "    print(\"Structure:\")\n",
    "    for split in ['train', 'val']:\n",
    "        print(f\"\\n{split}:\")\n",
    "        for class_name in classes:\n",
    "            count = len(os.listdir(f\"sample_dataset/{split}/{class_name}\"))\n",
    "            print(f\"  {class_name}: {count} images\")\n",
    "    \n",
    "    return classes\n",
    "\n",
    "# Create the dataset\n",
    "classes = create_mock_dataset()"
   ]
  },
  {
   "cell_type": "code",
   "execution_count": 20,
   "id": "93fac92f-e783-45b1-b73e-d0d27d6158d7",
   "metadata": {
    "collapsed": true,
    "jupyter": {
     "outputs_hidden": true,
     "source_hidden": true
    },
    "scrolled": true
   },
   "outputs": [
    {
     "name": "stdout",
     "output_type": "stream",
     "text": [
      "Setting up model...\n"
     ]
    },
    {
     "name": "stderr",
     "output_type": "stream",
     "text": [
      "Some weights of ViTForImageClassification were not initialized from the model checkpoint at google/vit-base-patch16-224 and are newly initialized because the shapes did not match:\n",
      "- classifier.bias: found shape torch.Size([1000]) in the checkpoint and torch.Size([3]) in the model instantiated\n",
      "- classifier.weight: found shape torch.Size([1000, 768]) in the checkpoint and torch.Size([3, 768]) in the model instantiated\n",
      "You should probably TRAIN this model on a down-stream task to be able to use it for predictions and inference.\n"
     ]
    }
   ],
   "source": [
    "# Step 2: Setup the model\n",
    "print(\"Setting up model...\")\n",
    "num_classes = 3  # no_damage, light_damage, heavy_damage\n",
    "model, processor = setup_model(num_classes)"
   ]
  },
  {
   "cell_type": "code",
   "execution_count": 21,
   "id": "9bf35cc2-1a62-488a-9023-78dcd8d4c48c",
   "metadata": {},
   "outputs": [
    {
     "name": "stdout",
     "output_type": "stream",
     "text": [
      "Model loaded on mps\n"
     ]
    }
   ],
   "source": [
    "# Move model to device (MPS for Apple Silicon)\n",
    "model = model.to(device)\n",
    "print(f\"Model loaded on {device}\")"
   ]
  },
  {
   "cell_type": "code",
   "execution_count": 22,
   "id": "dcc9e375-3677-41ed-8adc-787f762bb910",
   "metadata": {
    "jupyter": {
     "source_hidden": true
    }
   },
   "outputs": [
    {
     "name": "stdout",
     "output_type": "stream",
     "text": [
      "Creating datasets...\n",
      "Training samples: 150\n",
      "Validation samples: 45\n",
      "Classes: ['heavy_damage', 'light_damage', 'no_damage']\n"
     ]
    }
   ],
   "source": [
    "# Step 3: Create datasets\n",
    "print(\"Creating datasets...\")\n",
    "train_dataset = ImageClassificationDataset(\n",
    "    root_dir=\"sample_dataset/train\",\n",
    "    processor=processor\n",
    ")\n",
    "\n",
    "val_dataset = ImageClassificationDataset(\n",
    "    root_dir=\"sample_dataset/val\",\n",
    "    processor=processor\n",
    ")\n",
    "\n",
    "print(f\"Training samples: {len(train_dataset)}\")\n",
    "print(f\"Validation samples: {len(val_dataset)}\")\n",
    "print(f\"Classes: {train_dataset.classes}\")"
   ]
  },
  {
   "cell_type": "code",
   "execution_count": 23,
   "id": "fcb130a4-c12a-43d1-985a-75c0786a3d38",
   "metadata": {
    "collapsed": true,
    "jupyter": {
     "outputs_hidden": true,
     "source_hidden": true
    }
   },
   "outputs": [
    {
     "name": "stdout",
     "output_type": "stream",
     "text": [
      "\n",
      "Testing dataset loading...\n",
      "Sample image shape: torch.Size([3, 224, 224])\n",
      "Sample label: 0 (class: heavy_damage)\n"
     ]
    }
   ],
   "source": [
    "# Quick test - load one sample to make sure everything works\n",
    "print(\"\\nTesting dataset loading...\")\n",
    "sample = train_dataset[0]\n",
    "print(f\"Sample image shape: {sample['pixel_values'].shape}\")\n",
    "print(f\"Sample label: {sample['labels']} (class: {train_dataset.classes[sample['labels']]})\")"
   ]
  },
  {
   "cell_type": "code",
   "execution_count": 24,
   "id": "e8bb720e-53e0-4d3b-a059-8aec2138966f",
   "metadata": {
    "collapsed": true,
    "jupyter": {
     "outputs_hidden": true,
     "source_hidden": true
    }
   },
   "outputs": [
    {
     "name": "stdout",
     "output_type": "stream",
     "text": [
      "Starting training...\n",
      "This will take a few minutes on your M4 Pro...\n"
     ]
    },
    {
     "name": "stderr",
     "output_type": "stream",
     "text": [
      "/Users/justinmartin/github/my_llm_project/my_llm_env3.12/lib/python3.12/site-packages/torch/utils/data/dataloader.py:683: UserWarning: 'pin_memory' argument is set as true but not supported on MPS now, then device pinned memory won't be used.\n",
      "  warnings.warn(warn_msg)\n"
     ]
    },
    {
     "data": {
      "text/html": [
       "\n",
       "    <div>\n",
       "      \n",
       "      <progress value='57' max='57' style='width:300px; height:20px; vertical-align: middle;'></progress>\n",
       "      [57/57 00:20, Epoch 3/3]\n",
       "    </div>\n",
       "    <table border=\"1\" class=\"dataframe\">\n",
       "  <thead>\n",
       " <tr style=\"text-align: left;\">\n",
       "      <th>Epoch</th>\n",
       "      <th>Training Loss</th>\n",
       "      <th>Validation Loss</th>\n",
       "      <th>Accuracy</th>\n",
       "    </tr>\n",
       "  </thead>\n",
       "  <tbody>\n",
       "    <tr>\n",
       "      <td>1</td>\n",
       "      <td>0.289300</td>\n",
       "      <td>0.000512</td>\n",
       "      <td>1.000000</td>\n",
       "    </tr>\n",
       "    <tr>\n",
       "      <td>2</td>\n",
       "      <td>0.000300</td>\n",
       "      <td>0.000158</td>\n",
       "      <td>1.000000</td>\n",
       "    </tr>\n",
       "    <tr>\n",
       "      <td>3</td>\n",
       "      <td>0.000100</td>\n",
       "      <td>0.000134</td>\n",
       "      <td>1.000000</td>\n",
       "    </tr>\n",
       "  </tbody>\n",
       "</table><p>"
      ],
      "text/plain": [
       "<IPython.core.display.HTML object>"
      ]
     },
     "metadata": {},
     "output_type": "display_data"
    },
    {
     "name": "stderr",
     "output_type": "stream",
     "text": [
      "/Users/justinmartin/github/my_llm_project/my_llm_env3.12/lib/python3.12/site-packages/torch/utils/data/dataloader.py:683: UserWarning: 'pin_memory' argument is set as true but not supported on MPS now, then device pinned memory won't be used.\n",
      "  warnings.warn(warn_msg)\n",
      "/Users/justinmartin/github/my_llm_project/my_llm_env3.12/lib/python3.12/site-packages/torch/utils/data/dataloader.py:683: UserWarning: 'pin_memory' argument is set as true but not supported on MPS now, then device pinned memory won't be used.\n",
      "  warnings.warn(warn_msg)\n"
     ]
    },
    {
     "name": "stdout",
     "output_type": "stream",
     "text": [
      "\n",
      "🎉 Training completed!\n"
     ]
    }
   ],
   "source": [
    "# Step 4: Train the model\n",
    "print(\"Starting training...\")\n",
    "print(\"This will take a few minutes on your M4 Pro...\")\n",
    "\n",
    "trainer = train_model(train_dataset, val_dataset, model)\n",
    "\n",
    "print(\"\\n🎉 Training completed!\")"
   ]
  },
  {
   "cell_type": "code",
   "execution_count": 26,
   "id": "3c818451-625b-410f-8c5d-62e498fa14a8",
   "metadata": {
    "jupyter": {
     "source_hidden": true
    }
   },
   "outputs": [
    {
     "name": "stdout",
     "output_type": "stream",
     "text": [
      "Testing the trained model...\n",
      "\n",
      "Prediction for sample_dataset/val/heavy_damage/img_000.png:\n",
      "Predicted class: heavy_damage\n",
      "Confidence: 0.9997\n",
      "\n",
      "All probabilities:\n",
      "  heavy_damage: 0.9997\n",
      "  light_damage: 0.0001\n",
      "  no_damage: 0.0002\n",
      "\n",
      "==================================================\n",
      "Testing multiple images:\n",
      "heavy_damage: Predicted as 'heavy_damage' (confidence: 1.000)\n",
      "light_damage: Predicted as 'light_damage' (confidence: 0.999)\n",
      "no_damage: Predicted as 'no_damage' (confidence: 0.999)\n"
     ]
    }
   ],
   "source": [
    "# Step 5: Test the model\n",
    "def predict_image_fixed(image_path, model, processor, class_names):\n",
    "    \"\"\"Make prediction on a single image with proper device handling\"\"\"\n",
    "    \n",
    "    image = Image.open(image_path).convert('RGB')\n",
    "    inputs = processor(image, return_tensors=\"pt\")\n",
    "    \n",
    "    # Move inputs to the same device as the model\n",
    "    inputs = {k: v.to(device) for k, v in inputs.items()}\n",
    "    \n",
    "    model.eval()\n",
    "    with torch.no_grad():\n",
    "        outputs = model(**inputs)\n",
    "        predictions = torch.nn.functional.softmax(outputs.logits, dim=-1)\n",
    "        predicted_class_id = predictions.argmax().item()\n",
    "        confidence = predictions[0][predicted_class_id].item()\n",
    "    \n",
    "    return {\n",
    "        'predicted_class': class_names[predicted_class_id],\n",
    "        'confidence': confidence,\n",
    "        'all_probabilities': {class_names[i]: prob.item() \n",
    "                            for i, prob in enumerate(predictions[0])}\n",
    "    }\n",
    "\n",
    "# Now test with the fixed function\n",
    "print(\"Testing the trained model...\")\n",
    "\n",
    "# Test on a validation image\n",
    "test_image_path = \"sample_dataset/val/heavy_damage/img_000.png\"\n",
    "\n",
    "if os.path.exists(test_image_path):\n",
    "    result = predict_image_fixed(\n",
    "        test_image_path,\n",
    "        trainer.model,\n",
    "        processor,\n",
    "        train_dataset.classes\n",
    "    )\n",
    "    \n",
    "    print(f\"\\nPrediction for {test_image_path}:\")\n",
    "    print(f\"Predicted class: {result['predicted_class']}\")\n",
    "    print(f\"Confidence: {result['confidence']:.4f}\")\n",
    "    print(\"\\nAll probabilities:\")\n",
    "    for class_name, prob in result['all_probabilities'].items():\n",
    "        print(f\"  {class_name}: {prob:.4f}\")\n",
    "    \n",
    "    # Test a few more images\n",
    "    print(\"\\n\" + \"=\"*50)\n",
    "    print(\"Testing multiple images:\")\n",
    "    \n",
    "    for class_name in train_dataset.classes:\n",
    "        test_path = f\"sample_dataset/val/{class_name}/img_001.png\"\n",
    "        if os.path.exists(test_path):\n",
    "            result = predict_image_fixed(test_path, trainer.model, processor, train_dataset.classes)\n",
    "            print(f\"{class_name}: Predicted as '{result['predicted_class']}' (confidence: {result['confidence']:.3f})\")\n",
    "\n",
    "else:\n",
    "    print(f\"Test image not found at {test_image_path}\")"
   ]
  },
  {
   "cell_type": "code",
   "execution_count": 27,
   "id": "06cb2d94-0225-4a50-bfa8-78945cc38d16",
   "metadata": {},
   "outputs": [
    {
     "name": "stdout",
     "output_type": "stream",
     "text": [
      "Saving model...\n",
      "✅ Model saved to ./fine_tuned_vision_model\n",
      "\n",
      "============================================================\n",
      "🎉 TRAINING PIPELINE COMPLETE!\n",
      "============================================================\n",
      "✅ Your M4 Pro can handle vision model fine-tuning excellently\n",
      "✅ Ready for your client's roof shingle dataset\n",
      "✅ Expected performance with real data:\n",
      "   - 1K images: ~2-3 minutes training\n",
      "   - 5K images: ~10-15 minutes training\n",
      "   - 10K images: ~20-30 minutes training\n",
      "✅ Your system is production-ready for this type of work!\n"
     ]
    }
   ],
   "source": [
    "# Step 6: Save the model\n",
    "print(\"Saving model...\")\n",
    "trainer.save_model(\"./fine_tuned_vision_model\")\n",
    "processor.save_pretrained(\"./fine_tuned_vision_model\")\n",
    "print(\"✅ Model saved to ./fine_tuned_vision_model\")\n",
    "\n",
    "print(\"\\n\" + \"=\"*60)\n",
    "print(\"🎉 TRAINING PIPELINE COMPLETE!\")\n",
    "print(\"=\"*60)\n",
    "print(\"✅ Your M4 Pro can handle vision model fine-tuning excellently\")\n",
    "print(\"✅ Ready for your client's roof shingle dataset\")\n",
    "print(\"✅ Expected performance with real data:\")\n",
    "print(\"   - 1K images: ~2-3 minutes training\")\n",
    "print(\"   - 5K images: ~10-15 minutes training\") \n",
    "print(\"   - 10K images: ~20-30 minutes training\")\n",
    "print(\"✅ Your system is production-ready for this type of work!\")"
   ]
  },
  {
   "cell_type": "code",
   "execution_count": null,
   "id": "7ca18e3d-be2e-4d10-8027-19a44f082307",
   "metadata": {},
   "outputs": [],
   "source": []
  }
 ],
 "metadata": {
  "kernelspec": {
   "display_name": "Python 3 (ipykernel)",
   "language": "python",
   "name": "python3"
  },
  "language_info": {
   "codemirror_mode": {
    "name": "ipython",
    "version": 3
   },
   "file_extension": ".py",
   "mimetype": "text/x-python",
   "name": "python",
   "nbconvert_exporter": "python",
   "pygments_lexer": "ipython3",
   "version": "3.12.9"
  }
 },
 "nbformat": 4,
 "nbformat_minor": 5
}
